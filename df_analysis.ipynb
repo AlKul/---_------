{
 "cells": [
  {
   "cell_type": "code",
   "execution_count": 1,
   "id": "b21005d8-cdad-48f0-9c02-5c8eab9aacf4",
   "metadata": {},
   "outputs": [],
   "source": [
    "import pandas as pd"
   ]
  },
  {
   "cell_type": "code",
   "execution_count": 2,
   "id": "355b383d-a413-4774-bf43-5195ffeac10d",
   "metadata": {},
   "outputs": [
    {
     "ename": "ParserError",
     "evalue": "Error tokenizing data. C error: Expected 1 fields in line 50, saw 3\n",
     "output_type": "error",
     "traceback": [
      "\u001b[0;31m---------------------------------------------------------------------------\u001b[0m",
      "\u001b[0;31mParserError\u001b[0m                               Traceback (most recent call last)",
      "\u001b[0;32m/var/folders/zn/1572lrw14snff0mc3dlr9grc0000gn/T/ipykernel_5150/2393265954.py\u001b[0m in \u001b[0;36m<module>\u001b[0;34m\u001b[0m\n\u001b[0;32m----> 1\u001b[0;31m \u001b[0mdf\u001b[0m \u001b[0;34m=\u001b[0m \u001b[0mpd\u001b[0m\u001b[0;34m.\u001b[0m\u001b[0mread_csv\u001b[0m\u001b[0;34m(\u001b[0m\u001b[0;34m'./csv_files/All_companies_fixed.csv'\u001b[0m\u001b[0;34m)\u001b[0m\u001b[0;34m\u001b[0m\u001b[0;34m\u001b[0m\u001b[0m\n\u001b[0m",
      "\u001b[0;32m~/opt/anaconda3/lib/python3.9/site-packages/pandas/util/_decorators.py\u001b[0m in \u001b[0;36mwrapper\u001b[0;34m(*args, **kwargs)\u001b[0m\n\u001b[1;32m    309\u001b[0m                     \u001b[0mstacklevel\u001b[0m\u001b[0;34m=\u001b[0m\u001b[0mstacklevel\u001b[0m\u001b[0;34m,\u001b[0m\u001b[0;34m\u001b[0m\u001b[0;34m\u001b[0m\u001b[0m\n\u001b[1;32m    310\u001b[0m                 )\n\u001b[0;32m--> 311\u001b[0;31m             \u001b[0;32mreturn\u001b[0m \u001b[0mfunc\u001b[0m\u001b[0;34m(\u001b[0m\u001b[0;34m*\u001b[0m\u001b[0margs\u001b[0m\u001b[0;34m,\u001b[0m \u001b[0;34m**\u001b[0m\u001b[0mkwargs\u001b[0m\u001b[0;34m)\u001b[0m\u001b[0;34m\u001b[0m\u001b[0;34m\u001b[0m\u001b[0m\n\u001b[0m\u001b[1;32m    312\u001b[0m \u001b[0;34m\u001b[0m\u001b[0m\n\u001b[1;32m    313\u001b[0m         \u001b[0;32mreturn\u001b[0m \u001b[0mwrapper\u001b[0m\u001b[0;34m\u001b[0m\u001b[0;34m\u001b[0m\u001b[0m\n",
      "\u001b[0;32m~/opt/anaconda3/lib/python3.9/site-packages/pandas/io/parsers/readers.py\u001b[0m in \u001b[0;36mread_csv\u001b[0;34m(filepath_or_buffer, sep, delimiter, header, names, index_col, usecols, squeeze, prefix, mangle_dupe_cols, dtype, engine, converters, true_values, false_values, skipinitialspace, skiprows, skipfooter, nrows, na_values, keep_default_na, na_filter, verbose, skip_blank_lines, parse_dates, infer_datetime_format, keep_date_col, date_parser, dayfirst, cache_dates, iterator, chunksize, compression, thousands, decimal, lineterminator, quotechar, quoting, doublequote, escapechar, comment, encoding, encoding_errors, dialect, error_bad_lines, warn_bad_lines, on_bad_lines, delim_whitespace, low_memory, memory_map, float_precision, storage_options)\u001b[0m\n\u001b[1;32m    584\u001b[0m     \u001b[0mkwds\u001b[0m\u001b[0;34m.\u001b[0m\u001b[0mupdate\u001b[0m\u001b[0;34m(\u001b[0m\u001b[0mkwds_defaults\u001b[0m\u001b[0;34m)\u001b[0m\u001b[0;34m\u001b[0m\u001b[0;34m\u001b[0m\u001b[0m\n\u001b[1;32m    585\u001b[0m \u001b[0;34m\u001b[0m\u001b[0m\n\u001b[0;32m--> 586\u001b[0;31m     \u001b[0;32mreturn\u001b[0m \u001b[0m_read\u001b[0m\u001b[0;34m(\u001b[0m\u001b[0mfilepath_or_buffer\u001b[0m\u001b[0;34m,\u001b[0m \u001b[0mkwds\u001b[0m\u001b[0;34m)\u001b[0m\u001b[0;34m\u001b[0m\u001b[0;34m\u001b[0m\u001b[0m\n\u001b[0m\u001b[1;32m    587\u001b[0m \u001b[0;34m\u001b[0m\u001b[0m\n\u001b[1;32m    588\u001b[0m \u001b[0;34m\u001b[0m\u001b[0m\n",
      "\u001b[0;32m~/opt/anaconda3/lib/python3.9/site-packages/pandas/io/parsers/readers.py\u001b[0m in \u001b[0;36m_read\u001b[0;34m(filepath_or_buffer, kwds)\u001b[0m\n\u001b[1;32m    486\u001b[0m \u001b[0;34m\u001b[0m\u001b[0m\n\u001b[1;32m    487\u001b[0m     \u001b[0;32mwith\u001b[0m \u001b[0mparser\u001b[0m\u001b[0;34m:\u001b[0m\u001b[0;34m\u001b[0m\u001b[0;34m\u001b[0m\u001b[0m\n\u001b[0;32m--> 488\u001b[0;31m         \u001b[0;32mreturn\u001b[0m \u001b[0mparser\u001b[0m\u001b[0;34m.\u001b[0m\u001b[0mread\u001b[0m\u001b[0;34m(\u001b[0m\u001b[0mnrows\u001b[0m\u001b[0;34m)\u001b[0m\u001b[0;34m\u001b[0m\u001b[0;34m\u001b[0m\u001b[0m\n\u001b[0m\u001b[1;32m    489\u001b[0m \u001b[0;34m\u001b[0m\u001b[0m\n\u001b[1;32m    490\u001b[0m \u001b[0;34m\u001b[0m\u001b[0m\n",
      "\u001b[0;32m~/opt/anaconda3/lib/python3.9/site-packages/pandas/io/parsers/readers.py\u001b[0m in \u001b[0;36mread\u001b[0;34m(self, nrows)\u001b[0m\n\u001b[1;32m   1045\u001b[0m     \u001b[0;32mdef\u001b[0m \u001b[0mread\u001b[0m\u001b[0;34m(\u001b[0m\u001b[0mself\u001b[0m\u001b[0;34m,\u001b[0m \u001b[0mnrows\u001b[0m\u001b[0;34m=\u001b[0m\u001b[0;32mNone\u001b[0m\u001b[0;34m)\u001b[0m\u001b[0;34m:\u001b[0m\u001b[0;34m\u001b[0m\u001b[0;34m\u001b[0m\u001b[0m\n\u001b[1;32m   1046\u001b[0m         \u001b[0mnrows\u001b[0m \u001b[0;34m=\u001b[0m \u001b[0mvalidate_integer\u001b[0m\u001b[0;34m(\u001b[0m\u001b[0;34m\"nrows\"\u001b[0m\u001b[0;34m,\u001b[0m \u001b[0mnrows\u001b[0m\u001b[0;34m)\u001b[0m\u001b[0;34m\u001b[0m\u001b[0;34m\u001b[0m\u001b[0m\n\u001b[0;32m-> 1047\u001b[0;31m         \u001b[0mindex\u001b[0m\u001b[0;34m,\u001b[0m \u001b[0mcolumns\u001b[0m\u001b[0;34m,\u001b[0m \u001b[0mcol_dict\u001b[0m \u001b[0;34m=\u001b[0m \u001b[0mself\u001b[0m\u001b[0;34m.\u001b[0m\u001b[0m_engine\u001b[0m\u001b[0;34m.\u001b[0m\u001b[0mread\u001b[0m\u001b[0;34m(\u001b[0m\u001b[0mnrows\u001b[0m\u001b[0;34m)\u001b[0m\u001b[0;34m\u001b[0m\u001b[0;34m\u001b[0m\u001b[0m\n\u001b[0m\u001b[1;32m   1048\u001b[0m \u001b[0;34m\u001b[0m\u001b[0m\n\u001b[1;32m   1049\u001b[0m         \u001b[0;32mif\u001b[0m \u001b[0mindex\u001b[0m \u001b[0;32mis\u001b[0m \u001b[0;32mNone\u001b[0m\u001b[0;34m:\u001b[0m\u001b[0;34m\u001b[0m\u001b[0;34m\u001b[0m\u001b[0m\n",
      "\u001b[0;32m~/opt/anaconda3/lib/python3.9/site-packages/pandas/io/parsers/c_parser_wrapper.py\u001b[0m in \u001b[0;36mread\u001b[0;34m(self, nrows)\u001b[0m\n\u001b[1;32m    221\u001b[0m         \u001b[0;32mtry\u001b[0m\u001b[0;34m:\u001b[0m\u001b[0;34m\u001b[0m\u001b[0;34m\u001b[0m\u001b[0m\n\u001b[1;32m    222\u001b[0m             \u001b[0;32mif\u001b[0m \u001b[0mself\u001b[0m\u001b[0;34m.\u001b[0m\u001b[0mlow_memory\u001b[0m\u001b[0;34m:\u001b[0m\u001b[0;34m\u001b[0m\u001b[0;34m\u001b[0m\u001b[0m\n\u001b[0;32m--> 223\u001b[0;31m                 \u001b[0mchunks\u001b[0m \u001b[0;34m=\u001b[0m \u001b[0mself\u001b[0m\u001b[0;34m.\u001b[0m\u001b[0m_reader\u001b[0m\u001b[0;34m.\u001b[0m\u001b[0mread_low_memory\u001b[0m\u001b[0;34m(\u001b[0m\u001b[0mnrows\u001b[0m\u001b[0;34m)\u001b[0m\u001b[0;34m\u001b[0m\u001b[0;34m\u001b[0m\u001b[0m\n\u001b[0m\u001b[1;32m    224\u001b[0m                 \u001b[0;31m# destructive to chunks\u001b[0m\u001b[0;34m\u001b[0m\u001b[0;34m\u001b[0m\u001b[0m\n\u001b[1;32m    225\u001b[0m                 \u001b[0mdata\u001b[0m \u001b[0;34m=\u001b[0m \u001b[0m_concatenate_chunks\u001b[0m\u001b[0;34m(\u001b[0m\u001b[0mchunks\u001b[0m\u001b[0;34m)\u001b[0m\u001b[0;34m\u001b[0m\u001b[0;34m\u001b[0m\u001b[0m\n",
      "\u001b[0;32m~/opt/anaconda3/lib/python3.9/site-packages/pandas/_libs/parsers.pyx\u001b[0m in \u001b[0;36mpandas._libs.parsers.TextReader.read_low_memory\u001b[0;34m()\u001b[0m\n",
      "\u001b[0;32m~/opt/anaconda3/lib/python3.9/site-packages/pandas/_libs/parsers.pyx\u001b[0m in \u001b[0;36mpandas._libs.parsers.TextReader._read_rows\u001b[0;34m()\u001b[0m\n",
      "\u001b[0;32m~/opt/anaconda3/lib/python3.9/site-packages/pandas/_libs/parsers.pyx\u001b[0m in \u001b[0;36mpandas._libs.parsers.TextReader._tokenize_rows\u001b[0;34m()\u001b[0m\n",
      "\u001b[0;32m~/opt/anaconda3/lib/python3.9/site-packages/pandas/_libs/parsers.pyx\u001b[0m in \u001b[0;36mpandas._libs.parsers.raise_parser_error\u001b[0;34m()\u001b[0m\n",
      "\u001b[0;31mParserError\u001b[0m: Error tokenizing data. C error: Expected 1 fields in line 50, saw 3\n"
     ]
    }
   ],
   "source": [
    "df = pd.read_csv('./csv_files/All_companies_fixed.csv')"
   ]
  },
  {
   "cell_type": "code",
   "execution_count": 8,
   "id": "5351b714-3819-4c47-aa0f-86de5762a263",
   "metadata": {},
   "outputs": [],
   "source": [
    "df = pd.read_excel('./csv_files/All_companies_fixed.xlsx', header=1)"
   ]
  },
  {
   "cell_type": "code",
   "execution_count": 9,
   "id": "226d2d03-779c-4aa1-8f5d-7acfe3d3d73c",
   "metadata": {},
   "outputs": [
    {
     "data": {
      "text/html": [
       "<div>\n",
       "<style scoped>\n",
       "    .dataframe tbody tr th:only-of-type {\n",
       "        vertical-align: middle;\n",
       "    }\n",
       "\n",
       "    .dataframe tbody tr th {\n",
       "        vertical-align: top;\n",
       "    }\n",
       "\n",
       "    .dataframe thead th {\n",
       "        text-align: right;\n",
       "    }\n",
       "</style>\n",
       "<table border=\"1\" class=\"dataframe\">\n",
       "  <thead>\n",
       "    <tr style=\"text-align: right;\">\n",
       "      <th></th>\n",
       "      <th>Unnamed: 0</th>\n",
       "      <th>company_name</th>\n",
       "      <th>grant</th>\n",
       "      <th>Направление</th>\n",
       "      <th>revenue_2020 (тыс руб)</th>\n",
       "      <th>revenue_2021 (тыс руб)</th>\n",
       "    </tr>\n",
       "  </thead>\n",
       "  <tbody>\n",
       "    <tr>\n",
       "      <th>0</th>\n",
       "      <td>0</td>\n",
       "      <td>РТК РАДИОЛОГИЯ\"</td>\n",
       "      <td>70482009</td>\n",
       "      <td>Разработка</td>\n",
       "      <td>883816.0</td>\n",
       "      <td>614733.0</td>\n",
       "    </tr>\n",
       "    <tr>\n",
       "      <th>1</th>\n",
       "      <td>1</td>\n",
       "      <td>ИНЖЕНЕРНО-ТЕХНИЧЕСКИЙ ЦЕНТР \"ДЖЭТ\"</td>\n",
       "      <td>33899845</td>\n",
       "      <td>Разработка</td>\n",
       "      <td>246080.0</td>\n",
       "      <td>1096019.0</td>\n",
       "    </tr>\n",
       "    <tr>\n",
       "      <th>2</th>\n",
       "      <td>2</td>\n",
       "      <td>СМАРТ РИТЕЙЛ\"</td>\n",
       "      <td>90082728</td>\n",
       "      <td>Разработка</td>\n",
       "      <td>12566.0</td>\n",
       "      <td>11339.0</td>\n",
       "    </tr>\n",
       "    <tr>\n",
       "      <th>3</th>\n",
       "      <td>3</td>\n",
       "      <td>ЭТТОН-ЦЕНТР\"</td>\n",
       "      <td>28764000</td>\n",
       "      <td>Разработка</td>\n",
       "      <td>103875.0</td>\n",
       "      <td>82848.0</td>\n",
       "    </tr>\n",
       "    <tr>\n",
       "      <th>4</th>\n",
       "      <td>4</td>\n",
       "      <td>БФГ ГРУПП\"</td>\n",
       "      <td>50140984</td>\n",
       "      <td>Разработка</td>\n",
       "      <td>35495.0</td>\n",
       "      <td>113991.0</td>\n",
       "    </tr>\n",
       "    <tr>\n",
       "      <th>...</th>\n",
       "      <td>...</td>\n",
       "      <td>...</td>\n",
       "      <td>...</td>\n",
       "      <td>...</td>\n",
       "      <td>...</td>\n",
       "      <td>...</td>\n",
       "    </tr>\n",
       "    <tr>\n",
       "      <th>468</th>\n",
       "      <td>468</td>\n",
       "      <td>ТАНЕКО</td>\n",
       "      <td>54144106</td>\n",
       "      <td>Внедрение новых цифровых технологий</td>\n",
       "      <td>49112286.0</td>\n",
       "      <td>91151391.0</td>\n",
       "    </tr>\n",
       "    <tr>\n",
       "      <th>469</th>\n",
       "      <td>469</td>\n",
       "      <td>МОСТОСТРОЙ</td>\n",
       "      <td>116976685</td>\n",
       "      <td>Внедрение новых цифровых технологий</td>\n",
       "      <td>4777.0</td>\n",
       "      <td>4894.0</td>\n",
       "    </tr>\n",
       "    <tr>\n",
       "      <th>470</th>\n",
       "      <td>470</td>\n",
       "      <td>Акционерное общество «Апатит»</td>\n",
       "      <td>48000000</td>\n",
       "      <td>Внедрение новых цифровых технологий</td>\n",
       "      <td>214124018.0</td>\n",
       "      <td>361641400.0</td>\n",
       "    </tr>\n",
       "    <tr>\n",
       "      <th>471</th>\n",
       "      <td>471</td>\n",
       "      <td>Акционерное общество «ОЭЗ ППТ «Алабуга»</td>\n",
       "      <td>20301397</td>\n",
       "      <td>Внедрение новых цифровых технологий</td>\n",
       "      <td>1577602.0</td>\n",
       "      <td>2484525.0</td>\n",
       "    </tr>\n",
       "    <tr>\n",
       "      <th>472</th>\n",
       "      <td>472</td>\n",
       "      <td>АО «СЕТЕВАЯ КОМПАНИЯ АЛТАЙКРАЙЭНЕРГО»</td>\n",
       "      <td>20291143</td>\n",
       "      <td>Внедрение новых цифровых технологий</td>\n",
       "      <td>5815010.0</td>\n",
       "      <td>6401220.0</td>\n",
       "    </tr>\n",
       "  </tbody>\n",
       "</table>\n",
       "<p>473 rows × 6 columns</p>\n",
       "</div>"
      ],
      "text/plain": [
       "     Unnamed: 0                             company_name      grant  \\\n",
       "0             0                          РТК РАДИОЛОГИЯ\"   70482009   \n",
       "1             1       ИНЖЕНЕРНО-ТЕХНИЧЕСКИЙ ЦЕНТР \"ДЖЭТ\"   33899845   \n",
       "2             2                            СМАРТ РИТЕЙЛ\"   90082728   \n",
       "3             3                             ЭТТОН-ЦЕНТР\"   28764000   \n",
       "4             4                               БФГ ГРУПП\"   50140984   \n",
       "..          ...                                      ...        ...   \n",
       "468         468                                   ТАНЕКО   54144106   \n",
       "469         469                               МОСТОСТРОЙ  116976685   \n",
       "470         470            Акционерное общество «Апатит»   48000000   \n",
       "471         471  Акционерное общество «ОЭЗ ППТ «Алабуга»   20301397   \n",
       "472         472    АО «СЕТЕВАЯ КОМПАНИЯ АЛТАЙКРАЙЭНЕРГО»   20291143   \n",
       "\n",
       "                             Направление  revenue_2020 (тыс руб)  \\\n",
       "0                             Разработка                883816.0   \n",
       "1                             Разработка                246080.0   \n",
       "2                             Разработка                 12566.0   \n",
       "3                             Разработка                103875.0   \n",
       "4                             Разработка                 35495.0   \n",
       "..                                   ...                     ...   \n",
       "468  Внедрение новых цифровых технологий              49112286.0   \n",
       "469  Внедрение новых цифровых технологий                  4777.0   \n",
       "470  Внедрение новых цифровых технологий             214124018.0   \n",
       "471  Внедрение новых цифровых технологий               1577602.0   \n",
       "472  Внедрение новых цифровых технологий               5815010.0   \n",
       "\n",
       "     revenue_2021 (тыс руб)  \n",
       "0                  614733.0  \n",
       "1                 1096019.0  \n",
       "2                   11339.0  \n",
       "3                   82848.0  \n",
       "4                  113991.0  \n",
       "..                      ...  \n",
       "468              91151391.0  \n",
       "469                  4894.0  \n",
       "470             361641400.0  \n",
       "471               2484525.0  \n",
       "472               6401220.0  \n",
       "\n",
       "[473 rows x 6 columns]"
      ]
     },
     "execution_count": 9,
     "metadata": {},
     "output_type": "execute_result"
    }
   ],
   "source": [
    "df"
   ]
  },
  {
   "cell_type": "code",
   "execution_count": 25,
   "id": "b861fb08-daf9-4d86-88bc-4c9ed1ee632d",
   "metadata": {},
   "outputs": [
    {
     "data": {
      "text/html": [
       "<div>\n",
       "<style scoped>\n",
       "    .dataframe tbody tr th:only-of-type {\n",
       "        vertical-align: middle;\n",
       "    }\n",
       "\n",
       "    .dataframe tbody tr th {\n",
       "        vertical-align: top;\n",
       "    }\n",
       "\n",
       "    .dataframe thead th {\n",
       "        text-align: right;\n",
       "    }\n",
       "</style>\n",
       "<table border=\"1\" class=\"dataframe\">\n",
       "  <thead>\n",
       "    <tr style=\"text-align: right;\">\n",
       "      <th></th>\n",
       "      <th>Unnamed: 0</th>\n",
       "      <th>company_name</th>\n",
       "      <th>grant</th>\n",
       "      <th>Направление</th>\n",
       "      <th>revenue_2020 (тыс руб)</th>\n",
       "      <th>revenue_2021 (тыс руб)</th>\n",
       "      <th>revenue_upside</th>\n",
       "      <th>revenue_upside_%</th>\n",
       "    </tr>\n",
       "  </thead>\n",
       "  <tbody>\n",
       "    <tr>\n",
       "      <th>0</th>\n",
       "      <td>0</td>\n",
       "      <td>РТК РАДИОЛОГИЯ\"</td>\n",
       "      <td>70482009</td>\n",
       "      <td>Разработка</td>\n",
       "      <td>883816.0</td>\n",
       "      <td>614733.0</td>\n",
       "      <td>0.695544</td>\n",
       "      <td>-30.0</td>\n",
       "    </tr>\n",
       "    <tr>\n",
       "      <th>1</th>\n",
       "      <td>1</td>\n",
       "      <td>ИНЖЕНЕРНО-ТЕХНИЧЕСКИЙ ЦЕНТР \"ДЖЭТ\"</td>\n",
       "      <td>33899845</td>\n",
       "      <td>Разработка</td>\n",
       "      <td>246080.0</td>\n",
       "      <td>1096019.0</td>\n",
       "      <td>4.453913</td>\n",
       "      <td>345.0</td>\n",
       "    </tr>\n",
       "    <tr>\n",
       "      <th>2</th>\n",
       "      <td>2</td>\n",
       "      <td>СМАРТ РИТЕЙЛ\"</td>\n",
       "      <td>90082728</td>\n",
       "      <td>Разработка</td>\n",
       "      <td>12566.0</td>\n",
       "      <td>11339.0</td>\n",
       "      <td>0.902356</td>\n",
       "      <td>-10.0</td>\n",
       "    </tr>\n",
       "    <tr>\n",
       "      <th>3</th>\n",
       "      <td>3</td>\n",
       "      <td>ЭТТОН-ЦЕНТР\"</td>\n",
       "      <td>28764000</td>\n",
       "      <td>Разработка</td>\n",
       "      <td>103875.0</td>\n",
       "      <td>82848.0</td>\n",
       "      <td>0.797574</td>\n",
       "      <td>-20.0</td>\n",
       "    </tr>\n",
       "    <tr>\n",
       "      <th>4</th>\n",
       "      <td>4</td>\n",
       "      <td>БФГ ГРУПП\"</td>\n",
       "      <td>50140984</td>\n",
       "      <td>Разработка</td>\n",
       "      <td>35495.0</td>\n",
       "      <td>113991.0</td>\n",
       "      <td>3.211466</td>\n",
       "      <td>221.0</td>\n",
       "    </tr>\n",
       "    <tr>\n",
       "      <th>...</th>\n",
       "      <td>...</td>\n",
       "      <td>...</td>\n",
       "      <td>...</td>\n",
       "      <td>...</td>\n",
       "      <td>...</td>\n",
       "      <td>...</td>\n",
       "      <td>...</td>\n",
       "      <td>...</td>\n",
       "    </tr>\n",
       "    <tr>\n",
       "      <th>468</th>\n",
       "      <td>468</td>\n",
       "      <td>ТАНЕКО</td>\n",
       "      <td>54144106</td>\n",
       "      <td>Внедрение новых цифровых технологий</td>\n",
       "      <td>49112286.0</td>\n",
       "      <td>91151391.0</td>\n",
       "      <td>1.855979</td>\n",
       "      <td>86.0</td>\n",
       "    </tr>\n",
       "    <tr>\n",
       "      <th>469</th>\n",
       "      <td>469</td>\n",
       "      <td>МОСТОСТРОЙ</td>\n",
       "      <td>116976685</td>\n",
       "      <td>Внедрение новых цифровых технологий</td>\n",
       "      <td>4777.0</td>\n",
       "      <td>4894.0</td>\n",
       "      <td>1.024492</td>\n",
       "      <td>2.0</td>\n",
       "    </tr>\n",
       "    <tr>\n",
       "      <th>470</th>\n",
       "      <td>470</td>\n",
       "      <td>Акционерное общество «Апатит»</td>\n",
       "      <td>48000000</td>\n",
       "      <td>Внедрение новых цифровых технологий</td>\n",
       "      <td>214124018.0</td>\n",
       "      <td>361641400.0</td>\n",
       "      <td>1.688934</td>\n",
       "      <td>69.0</td>\n",
       "    </tr>\n",
       "    <tr>\n",
       "      <th>471</th>\n",
       "      <td>471</td>\n",
       "      <td>Акционерное общество «ОЭЗ ППТ «Алабуга»</td>\n",
       "      <td>20301397</td>\n",
       "      <td>Внедрение новых цифровых технологий</td>\n",
       "      <td>1577602.0</td>\n",
       "      <td>2484525.0</td>\n",
       "      <td>1.574874</td>\n",
       "      <td>57.0</td>\n",
       "    </tr>\n",
       "    <tr>\n",
       "      <th>472</th>\n",
       "      <td>472</td>\n",
       "      <td>АО «СЕТЕВАЯ КОМПАНИЯ АЛТАЙКРАЙЭНЕРГО»</td>\n",
       "      <td>20291143</td>\n",
       "      <td>Внедрение новых цифровых технологий</td>\n",
       "      <td>5815010.0</td>\n",
       "      <td>6401220.0</td>\n",
       "      <td>1.100810</td>\n",
       "      <td>10.0</td>\n",
       "    </tr>\n",
       "  </tbody>\n",
       "</table>\n",
       "<p>473 rows × 8 columns</p>\n",
       "</div>"
      ],
      "text/plain": [
       "     Unnamed: 0                             company_name      grant  \\\n",
       "0             0                          РТК РАДИОЛОГИЯ\"   70482009   \n",
       "1             1       ИНЖЕНЕРНО-ТЕХНИЧЕСКИЙ ЦЕНТР \"ДЖЭТ\"   33899845   \n",
       "2             2                            СМАРТ РИТЕЙЛ\"   90082728   \n",
       "3             3                             ЭТТОН-ЦЕНТР\"   28764000   \n",
       "4             4                               БФГ ГРУПП\"   50140984   \n",
       "..          ...                                      ...        ...   \n",
       "468         468                                   ТАНЕКО   54144106   \n",
       "469         469                               МОСТОСТРОЙ  116976685   \n",
       "470         470            Акционерное общество «Апатит»   48000000   \n",
       "471         471  Акционерное общество «ОЭЗ ППТ «Алабуга»   20301397   \n",
       "472         472    АО «СЕТЕВАЯ КОМПАНИЯ АЛТАЙКРАЙЭНЕРГО»   20291143   \n",
       "\n",
       "                             Направление  revenue_2020 (тыс руб)  \\\n",
       "0                             Разработка                883816.0   \n",
       "1                             Разработка                246080.0   \n",
       "2                             Разработка                 12566.0   \n",
       "3                             Разработка                103875.0   \n",
       "4                             Разработка                 35495.0   \n",
       "..                                   ...                     ...   \n",
       "468  Внедрение новых цифровых технологий              49112286.0   \n",
       "469  Внедрение новых цифровых технологий                  4777.0   \n",
       "470  Внедрение новых цифровых технологий             214124018.0   \n",
       "471  Внедрение новых цифровых технологий               1577602.0   \n",
       "472  Внедрение новых цифровых технологий               5815010.0   \n",
       "\n",
       "     revenue_2021 (тыс руб)  revenue_upside  revenue_upside_%  \n",
       "0                  614733.0        0.695544             -30.0  \n",
       "1                 1096019.0        4.453913             345.0  \n",
       "2                   11339.0        0.902356             -10.0  \n",
       "3                   82848.0        0.797574             -20.0  \n",
       "4                  113991.0        3.211466             221.0  \n",
       "..                      ...             ...               ...  \n",
       "468              91151391.0        1.855979              86.0  \n",
       "469                  4894.0        1.024492               2.0  \n",
       "470             361641400.0        1.688934              69.0  \n",
       "471               2484525.0        1.574874              57.0  \n",
       "472               6401220.0        1.100810              10.0  \n",
       "\n",
       "[473 rows x 8 columns]"
      ]
     },
     "execution_count": 25,
     "metadata": {},
     "output_type": "execute_result"
    }
   ],
   "source": [
    "df"
   ]
  },
  {
   "cell_type": "code",
   "execution_count": 10,
   "id": "3c9603e6-65b8-4bc3-b1fc-4bc16bcbd2cc",
   "metadata": {},
   "outputs": [],
   "source": [
    "df['revenue_upside'] = df['revenue_2021 (тыс руб)'] / df['revenue_2020 (тыс руб)']"
   ]
  },
  {
   "cell_type": "code",
   "execution_count": 23,
   "id": "d5fbd210-bbee-4b2b-94e9-30fc7e1024db",
   "metadata": {},
   "outputs": [],
   "source": [
    "df['revenue_upside_%'] = df['revenue_upside'].apply(lambda x: round((x - 1)*100, 0))"
   ]
  },
  {
   "cell_type": "code",
   "execution_count": 24,
   "id": "5dad0489-8da7-42d0-b14c-48d6d98ee6b0",
   "metadata": {},
   "outputs": [
    {
     "data": {
      "text/plain": [
       "0      -30.0\n",
       "1      345.0\n",
       "2      -10.0\n",
       "3      -20.0\n",
       "4      221.0\n",
       "       ...  \n",
       "468     86.0\n",
       "469      2.0\n",
       "470     69.0\n",
       "471     57.0\n",
       "472     10.0\n",
       "Name: revenue_upside_%, Length: 473, dtype: float64"
      ]
     },
     "execution_count": 24,
     "metadata": {},
     "output_type": "execute_result"
    }
   ],
   "source": [
    "df['revenue_upside_%']"
   ]
  },
  {
   "cell_type": "code",
   "execution_count": 56,
   "id": "644b66ab-2e5c-42d3-90bc-126ddb8e832a",
   "metadata": {},
   "outputs": [],
   "source": [
    "df['revenue_total'] = df['revenue_2020 (тыс руб)'] + df['revenue_2021 (тыс руб)']"
   ]
  },
  {
   "cell_type": "code",
   "execution_count": 60,
   "id": "7a77febc-478d-4806-a4ae-f9111127f89c",
   "metadata": {},
   "outputs": [],
   "source": [
    "df['revenue_grant_ratio'] = df['revenue_total'] / df['grant']"
   ]
  },
  {
   "cell_type": "code",
   "execution_count": 29,
   "id": "0b13bddf-2932-487d-b0fc-3ed7382170ef",
   "metadata": {},
   "outputs": [
    {
     "data": {
      "text/plain": [
       "Разработка                             24\n",
       "Стартап Разработка                     19\n",
       "Внедрение                              17\n",
       "Внедрение новых цифровых технологий     5\n",
       "Name: Направление, dtype: int64"
      ]
     },
     "execution_count": 29,
     "metadata": {},
     "output_type": "execute_result"
    }
   ],
   "source": [
    "df['Направление'].value_counts()"
   ]
  },
  {
   "cell_type": "code",
   "execution_count": 63,
   "id": "8c3f63f6-57ad-471b-b17b-858d3009a1aa",
   "metadata": {},
   "outputs": [],
   "source": [
    "import numpy as np"
   ]
  },
  {
   "cell_type": "code",
   "execution_count": 64,
   "id": "60b46e9c-29f7-446c-817e-b8b551cbf30a",
   "metadata": {},
   "outputs": [],
   "source": [
    "df.replace([np.inf, -np.inf], np.nan, inplace=True)"
   ]
  },
  {
   "cell_type": "code",
   "execution_count": 65,
   "id": "5f02ad87-8844-44ab-b3d2-92f301cc4fce",
   "metadata": {},
   "outputs": [
    {
     "data": {
      "text/plain": [
       "Направление\n",
       "Внедрение                              0.990297\n",
       "Внедрение новых цифровых технологий    1.449018\n",
       "Разработка                             1.649671\n",
       "Name: revenue_upside, dtype: float64"
      ]
     },
     "execution_count": 65,
     "metadata": {},
     "output_type": "execute_result"
    }
   ],
   "source": [
    "df.dropna(subset=['revenue_upside']).groupby('Направление')['revenue_upside'].mean()"
   ]
  },
  {
   "cell_type": "code",
   "execution_count": 49,
   "id": "153b7235-b4a7-4281-ab59-b9e161c9052e",
   "metadata": {},
   "outputs": [
    {
     "data": {
      "text/plain": [
       "-30.0"
      ]
     },
     "execution_count": 49,
     "metadata": {},
     "output_type": "execute_result"
    }
   ],
   "source": [
    "df[df['Направление'] == 'Разработка']['revenue_upside_%'].min()"
   ]
  },
  {
   "cell_type": "code",
   "execution_count": null,
   "id": "d76f7630-e9cf-40c7-bcdb-60a8eeb37d4d",
   "metadata": {},
   "outputs": [],
   "source": []
  }
 ],
 "metadata": {
  "kernelspec": {
   "display_name": "Python 3 (ipykernel)",
   "language": "python",
   "name": "python3"
  },
  "language_info": {
   "codemirror_mode": {
    "name": "ipython",
    "version": 3
   },
   "file_extension": ".py",
   "mimetype": "text/x-python",
   "name": "python",
   "nbconvert_exporter": "python",
   "pygments_lexer": "ipython3",
   "version": "3.9.7"
  }
 },
 "nbformat": 4,
 "nbformat_minor": 5
}
